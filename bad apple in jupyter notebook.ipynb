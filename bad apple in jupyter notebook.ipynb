{
 "cells": [
  {
   "cell_type": "code",
   "execution_count": 1,
   "metadata": {},
   "outputs": [],
   "source": [
    "from IPython.display import clear_output\n",
    "import cv2\n",
    "import numpy as np\n",
    "import time\n",
    "\n",
    "import os\n",
    "from moviepy.editor import *\n",
    "\n",
    "from pydub.playback import play\n",
    "from pydub import AudioSegment\n",
    "\n",
    "import pyglet\n",
    "\n",
    "from threading import Thread"
   ]
  },
  {
   "cell_type": "code",
   "execution_count": 2,
   "metadata": {},
   "outputs": [],
   "source": [
    "video_file = \"C:\\\\Users\\\\qwopq\\\\Downloads\\\\bad apple.mp4\""
   ]
  },
  {
   "cell_type": "code",
   "execution_count": 3,
   "metadata": {},
   "outputs": [],
   "source": [
    "def play_sound(song):\n",
    "    play(song)  \n",
    "\n",
    "def play_video():\n",
    "    eps = 0.0004225\n",
    "    print_shape = 151\n",
    "    img_scale = 0.4\n",
    "    \n",
    "    gray_scale = '$@B%8&WM#*oahkbdpqwmZO0QLCJUYXzcvunxrjft/\\|()1{}[]?-_+~<>i!lI;:,\"^`\\'. '\n",
    "\n",
    "    imgs = []\n",
    "    cap = cv2.VideoCapture(video_file) \n",
    "\n",
    "    cap = cv2.VideoCapture(video_file) \n",
    "    fps = cap.get(cv2.CAP_PROP_FPS)\n",
    "    delay = ((1/fps)-eps)*1e9\n",
    "    \n",
    "    if cap.isOpened():                 \n",
    "        while True:\n",
    "            ret, img = cap.read()      \n",
    "            if ret:\n",
    "                prev_nanos = time.time_ns()\n",
    "                img = cv2.resize(cv2.cvtColor(img,cv2.COLOR_BGR2GRAY),(print_shape,round(print_shape*(img.shape[0]/img.shape[1])*img_scale)))\n",
    "                img = np.round(img*((len(gray_scale)-1)/255))\n",
    "                ascii_img = np.full((img.shape[0],img.shape[1]+1),'\\n','str')\n",
    "                for i in range(len(gray_scale)):\n",
    "                    ascii_img[:,:-1][img == i] = gray_scale[i]                \n",
    "                print(''.join(ascii_img.flatten().tolist()))\n",
    "                clear_output(True)\n",
    "                while True:\n",
    "                    curr_nanos = time.time_ns()\n",
    "                    if(curr_nanos - prev_nanos >= delay):\n",
    "                        break\n",
    "            else:                  \n",
    "                break                   \n",
    "    cap.release()                  \n",
    "    cv2.destroyAllWindows()\n",
    "    \n",
    "def play_total():\n",
    "    song = AudioSegment.from_file(video_file, \"mp4\")\n",
    "    \n",
    "    Thread(target = play_sound,args=(song,)).start()\n",
    "    Thread(target = play_video).start()"
   ]
  },
  {
   "cell_type": "code",
   "execution_count": 4,
   "metadata": {},
   "outputs": [
    {
     "name": "stdout",
     "output_type": "stream",
     "text": [
      "                                                                                                                                                       \n",
      "                                                                                                                                                       \n",
      "                                                                                                                                                       \n",
      "                                                                                                                                                       \n",
      "                                                                                                                                                       \n",
      "                                                                                                                                                       \n",
      "                                                                                                                                                       \n",
      "                                                                                                                                                       \n",
      "                                                                                                                                                       \n",
      "                                                                                                                                                       \n",
      "                                                                                                                                                       \n",
      "                                                                                                                                                       \n",
      "                                                                                                                                                       \n",
      "                                                                                                                                                       \n",
      "                                                                                                                                                       \n",
      "                                                                                                                                                       \n",
      "                                                                                                                                                       \n",
      "                                                                                                                                                       \n",
      "                                                                                                                                                       \n",
      "                                                                                                                                                       \n",
      "                                                                                                                                                       \n",
      "                                                                                                                                                       \n",
      "                                                                                                                                                       \n",
      "                                                                                                                                                       \n",
      "                                                                                                                                                       \n",
      "                                                                                                                                                       \n",
      "                                                                                                                                                       \n",
      "                                                                                                                                                       \n",
      "                                                                                                                                                       \n",
      "                                                                                                                                                       \n",
      "                                                                                                                                                       \n",
      "                                                                                                                                                       \n",
      "                                                                                                                                                       \n",
      "                                                                                                                                                       \n",
      "                                                                                                                                                       \n",
      "                                                                                                                                                       \n",
      "                                                                                                                                                       \n",
      "                                                                                                                                                       \n",
      "                                                                                                                                                       \n",
      "                                                                                                                                                       \n",
      "                                                                                                                                                       \n",
      "                                                                                                                                                       \n",
      "                                                                                                                                                       \n",
      "                                                                                                                                                       \n",
      "                                                                                                                                                       \n",
      "\n"
     ]
    }
   ],
   "source": [
    "play_total()"
   ]
  },
  {
   "cell_type": "code",
   "execution_count": null,
   "metadata": {},
   "outputs": [],
   "source": []
  }
 ],
 "metadata": {
  "kernelspec": {
   "display_name": "Python 3",
   "language": "python",
   "name": "python3"
  },
  "language_info": {
   "codemirror_mode": {
    "name": "ipython",
    "version": 3
   },
   "file_extension": ".py",
   "mimetype": "text/x-python",
   "name": "python",
   "nbconvert_exporter": "python",
   "pygments_lexer": "ipython3",
   "version": "3.7.7"
  }
 },
 "nbformat": 4,
 "nbformat_minor": 4
}
