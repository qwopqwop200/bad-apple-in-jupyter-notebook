{
 "cells": [
  {
   "cell_type": "code",
   "execution_count": 1,
   "metadata": {},
   "outputs": [],
   "source": [
    "from IPython.display import clear_output\n",
    "import cv2\n",
    "import numpy as np\n",
    "import time\n",
    "\n",
    "from pydub.playback import play\n",
    "from pydub import AudioSegment\n",
    "\n",
    "from threading import Thread"
   ]
  },
  {
   "cell_type": "code",
   "execution_count": 2,
   "metadata": {},
   "outputs": [],
   "source": [
    "video_file = \"C:\\\\Users\\\\qwopq\\\\Downloads\\\\bad apple.mp4\"\n",
    "print_shape = 151\n",
    "color_reverse = True"
   ]
  },
  {
   "cell_type": "code",
   "execution_count": 3,
   "metadata": {},
   "outputs": [],
   "source": [
    "def play_sound(song):\n",
    "    play(song)\n",
    "\n",
    "def play_video(video_file=video_file,print_shape=print_shape,color_reverse = color_reverse):\n",
    "    cap = cv2.VideoCapture(video_file) \n",
    "\n",
    "    if cap.isOpened():\n",
    "        fps = cap.get(cv2.CAP_PROP_FPS)\n",
    "        width = cap.get(cv2.CAP_PROP_FRAME_WIDTH)\n",
    "        height = cap.get(cv2.CAP_PROP_FRAME_HEIGHT)\n",
    "        \n",
    "        delay = (1/fps)*1e9\n",
    "        \n",
    "        scale_shape = (print_shape, round(print_shape * (height / width) * 0.3))\n",
    "        gray_scale = '$@B%8&WM#*oahkbdpqwmZO0QLCJUYXzcvunxrjft/\\|()1{}[]?-_+~<>i!lI;:,\"^`\\'. '\n",
    "        gray_scale = gray_scale[::-1] if color_reverse else gray_scale\n",
    "        \n",
    "        img_mul = (len(gray_scale)-1) / 255\n",
    "        \n",
    "        ret, img = cap.read()\n",
    "        prev_nanos = time.time_ns()\n",
    "        while ret:\n",
    "            curr_nanos = time.time_ns()\n",
    "            if (curr_nanos - prev_nanos >= delay):\n",
    "                prev_nanos += delay\n",
    "                \n",
    "                img = cv2.resize(cv2.cvtColor(img,cv2.COLOR_BGR2GRAY), scale_shape)\n",
    "                img = np.round(img * img_mul)\n",
    "                ascii_img = np.full((img.shape[0],img.shape[1]+1),'\\n','str')\n",
    "                for i in range(len(gray_scale)):\n",
    "                    ascii_img[:,:-1][img == i] = gray_scale[i]                \n",
    "                print(''.join(ascii_img.flatten().tolist()))\n",
    "                clear_output(True)\n",
    "                ret, img = cap.read()\n",
    "    cap.release()\n",
    "    cv2.destroyAllWindows()\n",
    "    \n",
    "def play_total(video_file=video_file,print_shape=print_shape,color_reverse = color_reverse):\n",
    "    song = AudioSegment.from_file(video_file, \"mp4\")\n",
    "    Thread(target = play_sound, args=(song,)).start()\n",
    "    Thread(target = play_video, args=(video_file,print_shape,color_reverse)).start()"
   ]
  },
  {
   "cell_type": "code",
   "execution_count": 4,
   "metadata": {},
   "outputs": [
    {
     "name": "stdout",
     "output_type": "stream",
     "text": [
      "                                                                           x$$$$$$$$$$$$$$$$$$$$$$$$$$$$$$$$$$$$$$$$$$$$$$$$$$$$$$$$$$$$$$$$$$$$$$$$$$$\n",
      "                                                                           x@$$$$$$$$$$$$$$$$$$$$$$$$$$$$$$$$$$$$$$$$$$$$$$$$$$$$$$$$$$$$$$$$$$$$$$$$$$\n",
      "                                                                           x@$$$$$$$$$$$$$$$$$$$$$$$$$$$$$$$$$$$$$$$$$$$$$$$$$$$$$$$$$$$$$$$$$$$$$$$$$$\n",
      "                                                                           x@$$$$$$$$$$$$$$$$$$$$$$$$$$$$$$$$$$$$$$$$$$$$$$$$$$$$$$$$$$$$$$$$$$$$$$$$$$\n",
      "                                                                           x$$$$$$$$$$$$$$$$$$$$$$$$$$$$$$$$$$$$$$$$$$$$$$$$$$$$$$$$$$$$$$$$$$$$$$$$$$$\n",
      "                                                                           x$$$$$$$$$$$$$$$$$$$$$$$$$$$$$$$$$$$$$$$$$$$$$$$$$$$$$$$$$$$$$$$$$$$$$$$$$$$\n",
      "                                                                           x$$$$$$$$$$$$$$$$$$$$$$$$$$$$$$$$$$$$$$$$$$$$$$$$$$$$$$$$$$$$$$$$$$$$$$$$$$$\n",
      "                                                                           x@$$$$$$$$$$$$$$$$$$$$$$$$$$$$$$$$$$$$$$$$$$$$$$$$$$$$$$$$$$$$$$$$$$$$$$$$$$\n",
      "                                                                          ^j#@$$$$$$$$$$$$$$$$$$$$$$$$$$$$$$$$$$$$$$$$$$$$$$$$$$$$$$$$$$$$$$$$$$$$$$$$$\n",
      "                                                              I      '+X$$$n   +Y%@@$$$@ZW$$$$$$$$$$$$$$$$$$$$$$$$$$$$$$$$$$$$$$$$$$$$$$$$$$$$$$$$$$$$$\n",
      "                                                            .@$$$$$$$$$$$$$x         .    $$$$$$$$$$$$$$$$$$$$$$$$$$$$$$$$$$$$$$$$$$$$$$$$$$$$$$$$$$$$$\n",
      "                                                             ,@$$$$$$$$$$$$x             z$$$$$$$$$$$$$$$$$$$$$$$$$$$$$$$$$$$$$$$$$$$$$$$$$$$$$$$$$$$$$\n",
      "                                                          ;B] n$$$$$$$$$$$$x            '$B$$$$$$$$$$$$$$$$$$$$$$$$$$$$$$$$$$$$$$$$$$$$$$$$$$$$$$$$$$$$\n",
      "                                                            [\"p$$$$$$$$$$$$x           ;.#|a$$$$$$$$$$$$$$$$$$$$$$$$$$$$$$$$$$$$$$$$$$$$$$$$$$$$$$$$$$$\n",
      "                                                          iB@$$$$$$$$$$$$$$x              ,@$$$$$$$$$$$$$$$$$$$$$$$$$$$$$$$$$$$$$$$$$$$$$$$$$$$$$$$$$$$\n",
      "                                                          .rW '$$$$$$$$$$$$x            I$$^v$$$$$$$$$$$$$$$$$$$$$$$$$$$$$$$$$$$$$$$$$$$$$$$$$$$$$$$$$$\n",
      "                                                            MC'(.@$$$$$$$$$x         ,B*r$|,$$$$$$$$$$$$$$$$$$$$$$$$$$$$$$$$$$$$$$$$$$$$$$$$$$$$$$$$$$$\n",
      "                                                              -$#' Q@$@$$$$x   f\". Zv@h' k$$$$$$$$$$$$$$$$$$$$$$$$$$$$$$$$$$$$$$$$$$$$$$$$$$$$$$$$$$$$$\n",
      "                                                               ~8@$$$$$$$$$x          ._$$$$$$$$$$$$$$$$$$$$$$$$$$$$$$$$$$$$$$$$$$$$$$$$$$$$$$$$$$$$$$$\n",
      "                                                             .`#$$$$$$$$$$$x            q@$$$$$$$$$$$$$$$$$$$$$$$$$$$$$$$$$$$$$$$$$$$$$$$$$$$$$$$$$$$$$\n",
      "                                                             $$$$$$$$$$$$$$x              c$$$$$$$$$$$$$$$$$$$$$$$$$$$$$$$$$$$$$$$$$$$$$$$$$$$$$$$$$$$$\n",
      "                                                           Z$$$$$$$$$$$$$$$x                @$$$$$$$$$$$$$$$$$$$$$$$$$$$$$$$$$$$$$$$$$$$$$$$$$$$$$$$$$$\n",
      "                                                          m$$$$$$$$$$$$$$$$x                .$$$$$$$$$$$$$$$$$$$$$$$$$$$$$$$$$$$$$$$$$$$$$$$$$$$$$$$$$$\n",
      "                                                          c$$$$$$$$$$$$$$$$x                 [@$$$$$$$$$$$$$$$$$$$$$$$$$$$$$$$$$$$$$$$$$$$$$$$$$$$$$$$$\n",
      "                                                         .$f$$$$$$$$$$$$$$$x               $Uc$$$$$$$$$$$$$$$$$$$$$$$$$$$$$$$$$$$$$$$$$$$$$$$$$$$$$$$$$\n",
      "                                                            }$$$$$$$$$$$$$$x               8$$$$$$$$$$$$$$$$$$$$$$$$$$$$$$$$$$$$$$$$$$$$$$$$$$$$$$$$$$$\n",
      "                                                            \"$$$$$$$$$$$$$$x              `$$$$$$$$$$$$$$$$$$$$$$$$$$$$$$$$$$$$$$$$$$$$$$$$$$$$$$$$$$$$\n",
      "                                                            `$$$$$$$$$$$$$$x              I$$$$$$$$$$$$$$$$$$$$$$$$$$$$$$$$$$$$$$$$$$$$$$$$$$$$$$$$$$$$\n",
      "                                                             c0^W$$$$$$$$$$x              w$$$$$$$$$$$$$$$$$$$$$$$$$$$$$$$$$$$$$$$$$$$$$$$$$$$$$$$$$$$$\n",
      "                                                             ?$$$$$$$$$$$$$x            ' w@$$$$$$$$$$$$$$$$$$$$$$$$$$$$$$$$$$$$$$$$$$$$$$$$$$$$$$$$$$$\n",
      "                                                             @$$$$$$$$$$$$$x              C$$$$$$$$$$$$$$$$$$$$$$$$$$$$$$$$$$$$$$$$$$$$$$$$$$$$$$$$$$$$\n",
      "                                                           |$$$$$$$$$$$$$$$x               \"$$$$$$$$$$$$$$$$$$$$$$$$$$$$$$$$$$$$$$$$$$$$$$$$$$$$$$$$$$$\n",
      "                                                         .O$$$$$$$$$$$$$$$$x                 B$$$$$$$$$$$$$$$$$$$$$$$$$$$$$$$$$$$$$$$$$$$$$$$$$$$$$$$$$\n",
      "                                                         I$$$$$$$$$$$$$$$$$x                .]@$$$$$$$$$$$$$$$$$$$$$$$$$$$$$$$$$$$$$$$$$$$$$$$$$$$$$$$$\n",
      "\n"
     ]
    }
   ],
   "source": [
    "play_total(video_file,print_shape,color_reverse)"
   ]
  },
  {
   "cell_type": "code",
   "execution_count": null,
   "metadata": {},
   "outputs": [],
   "source": []
  }
 ],
 "metadata": {
  "kernelspec": {
   "display_name": "Python 3",
   "language": "python",
   "name": "python3"
  },
  "language_info": {
   "codemirror_mode": {
    "name": "ipython",
    "version": 3
   },
   "file_extension": ".py",
   "mimetype": "text/x-python",
   "name": "python",
   "nbconvert_exporter": "python",
   "pygments_lexer": "ipython3",
   "version": "3.7.7"
  }
 },
 "nbformat": 4,
 "nbformat_minor": 4
}
